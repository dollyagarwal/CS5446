{
  "cells": [
    {
      "cell_type": "code",
      "execution_count": null,
      "metadata": {
        "id": "o92cAyA2Xz_i"
      },
      "outputs": [],
      "source": [
        "import os\n",
        "import re\n",
        "import json\n",
        "import pandas as pd"
      ]
    },
    {
      "cell_type": "code",
      "source": [
        "# from google.colab import drive\n",
        "# drive.mount('/content/drive')"
      ],
      "metadata": {
        "colab": {
          "base_uri": "https://localhost:8080/"
        },
        "id": "N9ViGVe-8MjM",
        "outputId": "1673103a-1701-4995-dece-9fea59f1a940"
      },
      "execution_count": null,
      "outputs": [
        {
          "output_type": "stream",
          "name": "stdout",
          "text": [
            "Mounted at /content/drive\n"
          ]
        }
      ]
    },
    {
      "cell_type": "code",
      "source": [
        "# %cd /content/drive/MyDrive/AI Planning Project"
      ],
      "metadata": {
        "colab": {
          "base_uri": "https://localhost:8080/"
        },
        "id": "jPIKDV8d76Bw",
        "outputId": "6651bacd-9cd1-411a-bda2-f4ddfa50021a"
      },
      "execution_count": null,
      "outputs": [
        {
          "output_type": "stream",
          "name": "stdout",
          "text": [
            "/content/drive/.shortcut-targets-by-id/1aEeWcUXmV0Ymu3Re02AG9Sk2OKr-zwkW/AI Planning Project\n"
          ]
        }
      ]
    },
    {
      "cell_type": "code",
      "execution_count": null,
      "metadata": {
        "id": "EHNsBgyxXz_n"
      },
      "outputs": [],
      "source": [
        "folders = os.getcwd()"
      ]
    },
    {
      "cell_type": "code",
      "execution_count": null,
      "metadata": {
        "id": "o7IWdJlTXz_o"
      },
      "outputs": [],
      "source": [
        "plan_length_list = []\n",
        "is_plan_found_list = []\n",
        "nodes_expanded_list = []\n",
        "time_taken_list = []\n",
        "blocks_list = []\n",
        "problem_id_list = []\n",
        "algorithm_list = []\n",
        "heuristic_list = []\n",
        "\n",
        "for folder in os.listdir(folders):\n",
        "    if folder.find('blocks') >= 0 or folder.find('problem') >=0:        \n",
        "        for file in os.listdir(os.path.join(folders, folder)):\n",
        "            if file.find('.soln') >=0 and not(file.find('old') >=0) :\n",
        "                filename = os.path.join(folders, folder, file)\n",
        "                blocks = folder.split('blocks')[1]\n",
        "\n",
        "                with open(filename, 'r+') as f:\n",
        "                    text = f.read()\n",
        "                    #print(text)\n",
        "                dic = json.loads(re.search(r'.*> (.*).*', text).group(1))\n",
        "                plan_length_list.append(dic['solution']['plan_length'])\n",
        "                is_plan_found_list.append(dic['solution']['is_plan_found'])\n",
        "                if dic['solution']['is_plan_found']:\n",
        "                    nodes_expanded_list.append(dic['solution']['nodes_expanded'])\n",
        "                    heuristic_list.append(dic['algorithm']['heuristic'])\n",
        "                else:\n",
        "                    nodes_expanded_list.append(0)\n",
        "                    heuristic_list.append(heuristic_list[-1])\n",
        "                time_taken_list.append(dic['solution']['time_taken'])\n",
        "                blocks_list.append(dic['problem']['blocks'])\n",
        "                problem_id_list.append(dic['problem']['name'])\n",
        "                algorithm_list.append(dic['algorithm']['name'])\n",
        "                "
      ]
    },
    {
      "cell_type": "code",
      "execution_count": null,
      "metadata": {
        "id": "FEQj2UfhXz_p"
      },
      "outputs": [],
      "source": [
        "results = pd.DataFrame({'problem_id':problem_id_list, 'algorithm':algorithm_list, 'heuristic':heuristic_list, 'no_of_blocks':blocks_list, \\\n",
        "                       'plan_found': is_plan_found_list, 'plan_length': plan_length_list, 'nodes_expanded': nodes_expanded_list, 'time_taken':time_taken_list\n",
        "                       })"
      ]
    },
    {
      "cell_type": "code",
      "source": [
        "results = pd.read_csv('ghn_results.csv')"
      ],
      "metadata": {
        "id": "Y5Y65GFrYAmw"
      },
      "execution_count": null,
      "outputs": []
    },
    {
      "cell_type": "code",
      "execution_count": null,
      "metadata": {
        "id": "HjSAgIMLXz_q",
        "outputId": "b9a1c7e9-7e51-4c64-d43d-a1d6d1be97b1",
        "colab": {
          "base_uri": "https://localhost:8080/",
          "height": 206
        }
      },
      "outputs": [
        {
          "output_type": "execute_result",
          "data": {
            "text/plain": [
              "     problem_id algorithm                                          heuristic  \\\n",
              "0  bw-10-7268-1     astar  {'name': 'nn_plact', 'nn': {'name': 'gms', 'ar...   \n",
              "1  bw-10-7268-2     astar  {'name': 'nn_plact', 'nn': {'name': 'gms', 'ar...   \n",
              "2  bw-10-7268-3     astar  {'name': 'nn_plact', 'nn': {'name': 'gms', 'ar...   \n",
              "3  bw-10-7268-4     astar  {'name': 'nn_plact', 'nn': {'name': 'gms', 'ar...   \n",
              "4  bw-10-7268-5     astar  {'name': 'nn_plact', 'nn': {'name': 'gms', 'ar...   \n",
              "\n",
              "   no_of_blocks  plan_found  plan_length  nodes_expanded  time_taken  \n",
              "0            10        True           24              24        1.59  \n",
              "1            10        True           40            2606       34.06  \n",
              "2            10        True           28             137        3.31  \n",
              "3            10        True           26              26        1.70  \n",
              "4            10        True           24              35        1.76  "
            ],
            "text/html": [
              "\n",
              "  <div id=\"df-9b671acb-fab0-4c8f-89b9-587f2a0a7558\">\n",
              "    <div class=\"colab-df-container\">\n",
              "      <div>\n",
              "<style scoped>\n",
              "    .dataframe tbody tr th:only-of-type {\n",
              "        vertical-align: middle;\n",
              "    }\n",
              "\n",
              "    .dataframe tbody tr th {\n",
              "        vertical-align: top;\n",
              "    }\n",
              "\n",
              "    .dataframe thead th {\n",
              "        text-align: right;\n",
              "    }\n",
              "</style>\n",
              "<table border=\"1\" class=\"dataframe\">\n",
              "  <thead>\n",
              "    <tr style=\"text-align: right;\">\n",
              "      <th></th>\n",
              "      <th>problem_id</th>\n",
              "      <th>algorithm</th>\n",
              "      <th>heuristic</th>\n",
              "      <th>no_of_blocks</th>\n",
              "      <th>plan_found</th>\n",
              "      <th>plan_length</th>\n",
              "      <th>nodes_expanded</th>\n",
              "      <th>time_taken</th>\n",
              "    </tr>\n",
              "  </thead>\n",
              "  <tbody>\n",
              "    <tr>\n",
              "      <th>0</th>\n",
              "      <td>bw-10-7268-1</td>\n",
              "      <td>astar</td>\n",
              "      <td>{'name': 'nn_plact', 'nn': {'name': 'gms', 'ar...</td>\n",
              "      <td>10</td>\n",
              "      <td>True</td>\n",
              "      <td>24</td>\n",
              "      <td>24</td>\n",
              "      <td>1.59</td>\n",
              "    </tr>\n",
              "    <tr>\n",
              "      <th>1</th>\n",
              "      <td>bw-10-7268-2</td>\n",
              "      <td>astar</td>\n",
              "      <td>{'name': 'nn_plact', 'nn': {'name': 'gms', 'ar...</td>\n",
              "      <td>10</td>\n",
              "      <td>True</td>\n",
              "      <td>40</td>\n",
              "      <td>2606</td>\n",
              "      <td>34.06</td>\n",
              "    </tr>\n",
              "    <tr>\n",
              "      <th>2</th>\n",
              "      <td>bw-10-7268-3</td>\n",
              "      <td>astar</td>\n",
              "      <td>{'name': 'nn_plact', 'nn': {'name': 'gms', 'ar...</td>\n",
              "      <td>10</td>\n",
              "      <td>True</td>\n",
              "      <td>28</td>\n",
              "      <td>137</td>\n",
              "      <td>3.31</td>\n",
              "    </tr>\n",
              "    <tr>\n",
              "      <th>3</th>\n",
              "      <td>bw-10-7268-4</td>\n",
              "      <td>astar</td>\n",
              "      <td>{'name': 'nn_plact', 'nn': {'name': 'gms', 'ar...</td>\n",
              "      <td>10</td>\n",
              "      <td>True</td>\n",
              "      <td>26</td>\n",
              "      <td>26</td>\n",
              "      <td>1.70</td>\n",
              "    </tr>\n",
              "    <tr>\n",
              "      <th>4</th>\n",
              "      <td>bw-10-7268-5</td>\n",
              "      <td>astar</td>\n",
              "      <td>{'name': 'nn_plact', 'nn': {'name': 'gms', 'ar...</td>\n",
              "      <td>10</td>\n",
              "      <td>True</td>\n",
              "      <td>24</td>\n",
              "      <td>35</td>\n",
              "      <td>1.76</td>\n",
              "    </tr>\n",
              "  </tbody>\n",
              "</table>\n",
              "</div>\n",
              "      <button class=\"colab-df-convert\" onclick=\"convertToInteractive('df-9b671acb-fab0-4c8f-89b9-587f2a0a7558')\"\n",
              "              title=\"Convert this dataframe to an interactive table.\"\n",
              "              style=\"display:none;\">\n",
              "        \n",
              "  <svg xmlns=\"http://www.w3.org/2000/svg\" height=\"24px\"viewBox=\"0 0 24 24\"\n",
              "       width=\"24px\">\n",
              "    <path d=\"M0 0h24v24H0V0z\" fill=\"none\"/>\n",
              "    <path d=\"M18.56 5.44l.94 2.06.94-2.06 2.06-.94-2.06-.94-.94-2.06-.94 2.06-2.06.94zm-11 1L8.5 8.5l.94-2.06 2.06-.94-2.06-.94L8.5 2.5l-.94 2.06-2.06.94zm10 10l.94 2.06.94-2.06 2.06-.94-2.06-.94-.94-2.06-.94 2.06-2.06.94z\"/><path d=\"M17.41 7.96l-1.37-1.37c-.4-.4-.92-.59-1.43-.59-.52 0-1.04.2-1.43.59L10.3 9.45l-7.72 7.72c-.78.78-.78 2.05 0 2.83L4 21.41c.39.39.9.59 1.41.59.51 0 1.02-.2 1.41-.59l7.78-7.78 2.81-2.81c.8-.78.8-2.07 0-2.86zM5.41 20L4 18.59l7.72-7.72 1.47 1.35L5.41 20z\"/>\n",
              "  </svg>\n",
              "      </button>\n",
              "      \n",
              "  <style>\n",
              "    .colab-df-container {\n",
              "      display:flex;\n",
              "      flex-wrap:wrap;\n",
              "      gap: 12px;\n",
              "    }\n",
              "\n",
              "    .colab-df-convert {\n",
              "      background-color: #E8F0FE;\n",
              "      border: none;\n",
              "      border-radius: 50%;\n",
              "      cursor: pointer;\n",
              "      display: none;\n",
              "      fill: #1967D2;\n",
              "      height: 32px;\n",
              "      padding: 0 0 0 0;\n",
              "      width: 32px;\n",
              "    }\n",
              "\n",
              "    .colab-df-convert:hover {\n",
              "      background-color: #E2EBFA;\n",
              "      box-shadow: 0px 1px 2px rgba(60, 64, 67, 0.3), 0px 1px 3px 1px rgba(60, 64, 67, 0.15);\n",
              "      fill: #174EA6;\n",
              "    }\n",
              "\n",
              "    [theme=dark] .colab-df-convert {\n",
              "      background-color: #3B4455;\n",
              "      fill: #D2E3FC;\n",
              "    }\n",
              "\n",
              "    [theme=dark] .colab-df-convert:hover {\n",
              "      background-color: #434B5C;\n",
              "      box-shadow: 0px 1px 3px 1px rgba(0, 0, 0, 0.15);\n",
              "      filter: drop-shadow(0px 1px 2px rgba(0, 0, 0, 0.3));\n",
              "      fill: #FFFFFF;\n",
              "    }\n",
              "  </style>\n",
              "\n",
              "      <script>\n",
              "        const buttonEl =\n",
              "          document.querySelector('#df-9b671acb-fab0-4c8f-89b9-587f2a0a7558 button.colab-df-convert');\n",
              "        buttonEl.style.display =\n",
              "          google.colab.kernel.accessAllowed ? 'block' : 'none';\n",
              "\n",
              "        async function convertToInteractive(key) {\n",
              "          const element = document.querySelector('#df-9b671acb-fab0-4c8f-89b9-587f2a0a7558');\n",
              "          const dataTable =\n",
              "            await google.colab.kernel.invokeFunction('convertToInteractive',\n",
              "                                                     [key], {});\n",
              "          if (!dataTable) return;\n",
              "\n",
              "          const docLinkHtml = 'Like what you see? Visit the ' +\n",
              "            '<a target=\"_blank\" href=https://colab.research.google.com/notebooks/data_table.ipynb>data table notebook</a>'\n",
              "            + ' to learn more about interactive tables.';\n",
              "          element.innerHTML = '';\n",
              "          dataTable['output_type'] = 'display_data';\n",
              "          await google.colab.output.renderOutput(dataTable, element);\n",
              "          const docLink = document.createElement('div');\n",
              "          docLink.innerHTML = docLinkHtml;\n",
              "          element.appendChild(docLink);\n",
              "        }\n",
              "      </script>\n",
              "    </div>\n",
              "  </div>\n",
              "  "
            ]
          },
          "metadata": {},
          "execution_count": 9
        }
      ],
      "source": [
        "results.head()"
      ]
    },
    {
      "cell_type": "code",
      "execution_count": null,
      "metadata": {
        "id": "HMpxP4JuXz_r",
        "outputId": "a6804ffc-5d8b-49cb-ee4e-460725ae6c1a",
        "colab": {
          "base_uri": "https://localhost:8080/",
          "height": 802
        }
      },
      "outputs": [
        {
          "output_type": "execute_result",
          "data": {
            "text/plain": [
              "        problem_id algorithm  \\\n",
              "252  bw-14-9843-43     astar   \n",
              "272  bw-15-4678-13     astar   \n",
              "290  bw-15-4678-31     astar   \n",
              "492   bw-50-6176-3     astar   \n",
              "495   bw-50-6176-6     astar   \n",
              "500  bw-50-6176-11     astar   \n",
              "501  bw-50-6176-12     astar   \n",
              "502  bw-50-6176-13     astar   \n",
              "503  bw-50-6176-14     astar   \n",
              "507  bw-50-6176-18     astar   \n",
              "508  bw-50-6176-19     astar   \n",
              "511  bw-50-6176-22     astar   \n",
              "512  bw-50-6176-23     astar   \n",
              "515  bw-50-6176-26     astar   \n",
              "518  bw-50-6176-29     astar   \n",
              "522  bw-50-6176-33     astar   \n",
              "525  bw-50-6176-36     astar   \n",
              "526  bw-50-6176-37     astar   \n",
              "531  bw-50-6176-42     astar   \n",
              "532  bw-50-6176-43     astar   \n",
              "534  bw-50-6176-45     astar   \n",
              "536  bw-50-6176-47     astar   \n",
              "537  bw-50-6176-48     astar   \n",
              "539  bw-50-6176-50     astar   \n",
              "\n",
              "                                             heuristic  no_of_blocks  \\\n",
              "252  {'name': 'nn_plact', 'nn': {'name': 'gms', 'ar...            14   \n",
              "272  {'name': 'nn_plact', 'nn': {'name': 'gms', 'ar...            15   \n",
              "290  {'name': 'nn_plact', 'nn': {'name': 'gms', 'ar...            15   \n",
              "492  {'name': 'nn_plact', 'nn': {'name': 'gms', 'ar...            50   \n",
              "495  {'name': 'nn_plact', 'nn': {'name': 'gms', 'ar...            50   \n",
              "500  {'name': 'nn_plact', 'nn': {'name': 'gms', 'ar...            50   \n",
              "501  {'name': 'nn_plact', 'nn': {'name': 'gms', 'ar...            50   \n",
              "502  {'name': 'nn_plact', 'nn': {'name': 'gms', 'ar...            50   \n",
              "503  {'name': 'nn_plact', 'nn': {'name': 'gms', 'ar...            50   \n",
              "507  {'name': 'nn_plact', 'nn': {'name': 'gms', 'ar...            50   \n",
              "508  {'name': 'nn_plact', 'nn': {'name': 'gms', 'ar...            50   \n",
              "511  {'name': 'nn_plact', 'nn': {'name': 'gms', 'ar...            50   \n",
              "512  {'name': 'nn_plact', 'nn': {'name': 'gms', 'ar...            50   \n",
              "515  {'name': 'nn_plact', 'nn': {'name': 'gms', 'ar...            50   \n",
              "518  {'name': 'nn_plact', 'nn': {'name': 'gms', 'ar...            50   \n",
              "522  {'name': 'nn_plact', 'nn': {'name': 'gms', 'ar...            50   \n",
              "525  {'name': 'nn_plact', 'nn': {'name': 'gms', 'ar...            50   \n",
              "526  {'name': 'nn_plact', 'nn': {'name': 'gms', 'ar...            50   \n",
              "531  {'name': 'nn_plact', 'nn': {'name': 'gms', 'ar...            50   \n",
              "532  {'name': 'nn_plact', 'nn': {'name': 'gms', 'ar...            50   \n",
              "534  {'name': 'nn_plact', 'nn': {'name': 'gms', 'ar...            50   \n",
              "536  {'name': 'nn_plact', 'nn': {'name': 'gms', 'ar...            50   \n",
              "537  {'name': 'nn_plact', 'nn': {'name': 'gms', 'ar...            50   \n",
              "539  {'name': 'nn_plact', 'nn': {'name': 'gms', 'ar...            50   \n",
              "\n",
              "     plan_found  plan_length  nodes_expanded  time_taken  \n",
              "252       False            0               0      300.00  \n",
              "272       False            0               0      300.01  \n",
              "290       False            0               0      300.00  \n",
              "492       False            0               0      300.06  \n",
              "495       False            0               0      300.30  \n",
              "500       False            0               0      300.04  \n",
              "501       False            0               0      300.04  \n",
              "502       False            0               0      300.00  \n",
              "503       False            0               0      300.69  \n",
              "507       False            0               0      300.05  \n",
              "508       False            0               0      300.15  \n",
              "511       False            0               0      300.07  \n",
              "512       False            0               0      300.08  \n",
              "515       False            0               0      300.18  \n",
              "518       False            0               0      300.03  \n",
              "522       False            0               0      300.05  \n",
              "525       False            0               0      300.05  \n",
              "526       False            0               0      300.05  \n",
              "531       False            0               0      300.36  \n",
              "532       False            0               0      300.09  \n",
              "534       False            0               0      300.04  \n",
              "536       False            0               0      300.06  \n",
              "537       False            0               0      300.07  \n",
              "539       False            0               0      300.05  "
            ],
            "text/html": [
              "\n",
              "  <div id=\"df-02f0ae4f-3535-4894-a29f-af8b63ef447c\">\n",
              "    <div class=\"colab-df-container\">\n",
              "      <div>\n",
              "<style scoped>\n",
              "    .dataframe tbody tr th:only-of-type {\n",
              "        vertical-align: middle;\n",
              "    }\n",
              "\n",
              "    .dataframe tbody tr th {\n",
              "        vertical-align: top;\n",
              "    }\n",
              "\n",
              "    .dataframe thead th {\n",
              "        text-align: right;\n",
              "    }\n",
              "</style>\n",
              "<table border=\"1\" class=\"dataframe\">\n",
              "  <thead>\n",
              "    <tr style=\"text-align: right;\">\n",
              "      <th></th>\n",
              "      <th>problem_id</th>\n",
              "      <th>algorithm</th>\n",
              "      <th>heuristic</th>\n",
              "      <th>no_of_blocks</th>\n",
              "      <th>plan_found</th>\n",
              "      <th>plan_length</th>\n",
              "      <th>nodes_expanded</th>\n",
              "      <th>time_taken</th>\n",
              "    </tr>\n",
              "  </thead>\n",
              "  <tbody>\n",
              "    <tr>\n",
              "      <th>252</th>\n",
              "      <td>bw-14-9843-43</td>\n",
              "      <td>astar</td>\n",
              "      <td>{'name': 'nn_plact', 'nn': {'name': 'gms', 'ar...</td>\n",
              "      <td>14</td>\n",
              "      <td>False</td>\n",
              "      <td>0</td>\n",
              "      <td>0</td>\n",
              "      <td>300.00</td>\n",
              "    </tr>\n",
              "    <tr>\n",
              "      <th>272</th>\n",
              "      <td>bw-15-4678-13</td>\n",
              "      <td>astar</td>\n",
              "      <td>{'name': 'nn_plact', 'nn': {'name': 'gms', 'ar...</td>\n",
              "      <td>15</td>\n",
              "      <td>False</td>\n",
              "      <td>0</td>\n",
              "      <td>0</td>\n",
              "      <td>300.01</td>\n",
              "    </tr>\n",
              "    <tr>\n",
              "      <th>290</th>\n",
              "      <td>bw-15-4678-31</td>\n",
              "      <td>astar</td>\n",
              "      <td>{'name': 'nn_plact', 'nn': {'name': 'gms', 'ar...</td>\n",
              "      <td>15</td>\n",
              "      <td>False</td>\n",
              "      <td>0</td>\n",
              "      <td>0</td>\n",
              "      <td>300.00</td>\n",
              "    </tr>\n",
              "    <tr>\n",
              "      <th>492</th>\n",
              "      <td>bw-50-6176-3</td>\n",
              "      <td>astar</td>\n",
              "      <td>{'name': 'nn_plact', 'nn': {'name': 'gms', 'ar...</td>\n",
              "      <td>50</td>\n",
              "      <td>False</td>\n",
              "      <td>0</td>\n",
              "      <td>0</td>\n",
              "      <td>300.06</td>\n",
              "    </tr>\n",
              "    <tr>\n",
              "      <th>495</th>\n",
              "      <td>bw-50-6176-6</td>\n",
              "      <td>astar</td>\n",
              "      <td>{'name': 'nn_plact', 'nn': {'name': 'gms', 'ar...</td>\n",
              "      <td>50</td>\n",
              "      <td>False</td>\n",
              "      <td>0</td>\n",
              "      <td>0</td>\n",
              "      <td>300.30</td>\n",
              "    </tr>\n",
              "    <tr>\n",
              "      <th>500</th>\n",
              "      <td>bw-50-6176-11</td>\n",
              "      <td>astar</td>\n",
              "      <td>{'name': 'nn_plact', 'nn': {'name': 'gms', 'ar...</td>\n",
              "      <td>50</td>\n",
              "      <td>False</td>\n",
              "      <td>0</td>\n",
              "      <td>0</td>\n",
              "      <td>300.04</td>\n",
              "    </tr>\n",
              "    <tr>\n",
              "      <th>501</th>\n",
              "      <td>bw-50-6176-12</td>\n",
              "      <td>astar</td>\n",
              "      <td>{'name': 'nn_plact', 'nn': {'name': 'gms', 'ar...</td>\n",
              "      <td>50</td>\n",
              "      <td>False</td>\n",
              "      <td>0</td>\n",
              "      <td>0</td>\n",
              "      <td>300.04</td>\n",
              "    </tr>\n",
              "    <tr>\n",
              "      <th>502</th>\n",
              "      <td>bw-50-6176-13</td>\n",
              "      <td>astar</td>\n",
              "      <td>{'name': 'nn_plact', 'nn': {'name': 'gms', 'ar...</td>\n",
              "      <td>50</td>\n",
              "      <td>False</td>\n",
              "      <td>0</td>\n",
              "      <td>0</td>\n",
              "      <td>300.00</td>\n",
              "    </tr>\n",
              "    <tr>\n",
              "      <th>503</th>\n",
              "      <td>bw-50-6176-14</td>\n",
              "      <td>astar</td>\n",
              "      <td>{'name': 'nn_plact', 'nn': {'name': 'gms', 'ar...</td>\n",
              "      <td>50</td>\n",
              "      <td>False</td>\n",
              "      <td>0</td>\n",
              "      <td>0</td>\n",
              "      <td>300.69</td>\n",
              "    </tr>\n",
              "    <tr>\n",
              "      <th>507</th>\n",
              "      <td>bw-50-6176-18</td>\n",
              "      <td>astar</td>\n",
              "      <td>{'name': 'nn_plact', 'nn': {'name': 'gms', 'ar...</td>\n",
              "      <td>50</td>\n",
              "      <td>False</td>\n",
              "      <td>0</td>\n",
              "      <td>0</td>\n",
              "      <td>300.05</td>\n",
              "    </tr>\n",
              "    <tr>\n",
              "      <th>508</th>\n",
              "      <td>bw-50-6176-19</td>\n",
              "      <td>astar</td>\n",
              "      <td>{'name': 'nn_plact', 'nn': {'name': 'gms', 'ar...</td>\n",
              "      <td>50</td>\n",
              "      <td>False</td>\n",
              "      <td>0</td>\n",
              "      <td>0</td>\n",
              "      <td>300.15</td>\n",
              "    </tr>\n",
              "    <tr>\n",
              "      <th>511</th>\n",
              "      <td>bw-50-6176-22</td>\n",
              "      <td>astar</td>\n",
              "      <td>{'name': 'nn_plact', 'nn': {'name': 'gms', 'ar...</td>\n",
              "      <td>50</td>\n",
              "      <td>False</td>\n",
              "      <td>0</td>\n",
              "      <td>0</td>\n",
              "      <td>300.07</td>\n",
              "    </tr>\n",
              "    <tr>\n",
              "      <th>512</th>\n",
              "      <td>bw-50-6176-23</td>\n",
              "      <td>astar</td>\n",
              "      <td>{'name': 'nn_plact', 'nn': {'name': 'gms', 'ar...</td>\n",
              "      <td>50</td>\n",
              "      <td>False</td>\n",
              "      <td>0</td>\n",
              "      <td>0</td>\n",
              "      <td>300.08</td>\n",
              "    </tr>\n",
              "    <tr>\n",
              "      <th>515</th>\n",
              "      <td>bw-50-6176-26</td>\n",
              "      <td>astar</td>\n",
              "      <td>{'name': 'nn_plact', 'nn': {'name': 'gms', 'ar...</td>\n",
              "      <td>50</td>\n",
              "      <td>False</td>\n",
              "      <td>0</td>\n",
              "      <td>0</td>\n",
              "      <td>300.18</td>\n",
              "    </tr>\n",
              "    <tr>\n",
              "      <th>518</th>\n",
              "      <td>bw-50-6176-29</td>\n",
              "      <td>astar</td>\n",
              "      <td>{'name': 'nn_plact', 'nn': {'name': 'gms', 'ar...</td>\n",
              "      <td>50</td>\n",
              "      <td>False</td>\n",
              "      <td>0</td>\n",
              "      <td>0</td>\n",
              "      <td>300.03</td>\n",
              "    </tr>\n",
              "    <tr>\n",
              "      <th>522</th>\n",
              "      <td>bw-50-6176-33</td>\n",
              "      <td>astar</td>\n",
              "      <td>{'name': 'nn_plact', 'nn': {'name': 'gms', 'ar...</td>\n",
              "      <td>50</td>\n",
              "      <td>False</td>\n",
              "      <td>0</td>\n",
              "      <td>0</td>\n",
              "      <td>300.05</td>\n",
              "    </tr>\n",
              "    <tr>\n",
              "      <th>525</th>\n",
              "      <td>bw-50-6176-36</td>\n",
              "      <td>astar</td>\n",
              "      <td>{'name': 'nn_plact', 'nn': {'name': 'gms', 'ar...</td>\n",
              "      <td>50</td>\n",
              "      <td>False</td>\n",
              "      <td>0</td>\n",
              "      <td>0</td>\n",
              "      <td>300.05</td>\n",
              "    </tr>\n",
              "    <tr>\n",
              "      <th>526</th>\n",
              "      <td>bw-50-6176-37</td>\n",
              "      <td>astar</td>\n",
              "      <td>{'name': 'nn_plact', 'nn': {'name': 'gms', 'ar...</td>\n",
              "      <td>50</td>\n",
              "      <td>False</td>\n",
              "      <td>0</td>\n",
              "      <td>0</td>\n",
              "      <td>300.05</td>\n",
              "    </tr>\n",
              "    <tr>\n",
              "      <th>531</th>\n",
              "      <td>bw-50-6176-42</td>\n",
              "      <td>astar</td>\n",
              "      <td>{'name': 'nn_plact', 'nn': {'name': 'gms', 'ar...</td>\n",
              "      <td>50</td>\n",
              "      <td>False</td>\n",
              "      <td>0</td>\n",
              "      <td>0</td>\n",
              "      <td>300.36</td>\n",
              "    </tr>\n",
              "    <tr>\n",
              "      <th>532</th>\n",
              "      <td>bw-50-6176-43</td>\n",
              "      <td>astar</td>\n",
              "      <td>{'name': 'nn_plact', 'nn': {'name': 'gms', 'ar...</td>\n",
              "      <td>50</td>\n",
              "      <td>False</td>\n",
              "      <td>0</td>\n",
              "      <td>0</td>\n",
              "      <td>300.09</td>\n",
              "    </tr>\n",
              "    <tr>\n",
              "      <th>534</th>\n",
              "      <td>bw-50-6176-45</td>\n",
              "      <td>astar</td>\n",
              "      <td>{'name': 'nn_plact', 'nn': {'name': 'gms', 'ar...</td>\n",
              "      <td>50</td>\n",
              "      <td>False</td>\n",
              "      <td>0</td>\n",
              "      <td>0</td>\n",
              "      <td>300.04</td>\n",
              "    </tr>\n",
              "    <tr>\n",
              "      <th>536</th>\n",
              "      <td>bw-50-6176-47</td>\n",
              "      <td>astar</td>\n",
              "      <td>{'name': 'nn_plact', 'nn': {'name': 'gms', 'ar...</td>\n",
              "      <td>50</td>\n",
              "      <td>False</td>\n",
              "      <td>0</td>\n",
              "      <td>0</td>\n",
              "      <td>300.06</td>\n",
              "    </tr>\n",
              "    <tr>\n",
              "      <th>537</th>\n",
              "      <td>bw-50-6176-48</td>\n",
              "      <td>astar</td>\n",
              "      <td>{'name': 'nn_plact', 'nn': {'name': 'gms', 'ar...</td>\n",
              "      <td>50</td>\n",
              "      <td>False</td>\n",
              "      <td>0</td>\n",
              "      <td>0</td>\n",
              "      <td>300.07</td>\n",
              "    </tr>\n",
              "    <tr>\n",
              "      <th>539</th>\n",
              "      <td>bw-50-6176-50</td>\n",
              "      <td>astar</td>\n",
              "      <td>{'name': 'nn_plact', 'nn': {'name': 'gms', 'ar...</td>\n",
              "      <td>50</td>\n",
              "      <td>False</td>\n",
              "      <td>0</td>\n",
              "      <td>0</td>\n",
              "      <td>300.05</td>\n",
              "    </tr>\n",
              "  </tbody>\n",
              "</table>\n",
              "</div>\n",
              "      <button class=\"colab-df-convert\" onclick=\"convertToInteractive('df-02f0ae4f-3535-4894-a29f-af8b63ef447c')\"\n",
              "              title=\"Convert this dataframe to an interactive table.\"\n",
              "              style=\"display:none;\">\n",
              "        \n",
              "  <svg xmlns=\"http://www.w3.org/2000/svg\" height=\"24px\"viewBox=\"0 0 24 24\"\n",
              "       width=\"24px\">\n",
              "    <path d=\"M0 0h24v24H0V0z\" fill=\"none\"/>\n",
              "    <path d=\"M18.56 5.44l.94 2.06.94-2.06 2.06-.94-2.06-.94-.94-2.06-.94 2.06-2.06.94zm-11 1L8.5 8.5l.94-2.06 2.06-.94-2.06-.94L8.5 2.5l-.94 2.06-2.06.94zm10 10l.94 2.06.94-2.06 2.06-.94-2.06-.94-.94-2.06-.94 2.06-2.06.94z\"/><path d=\"M17.41 7.96l-1.37-1.37c-.4-.4-.92-.59-1.43-.59-.52 0-1.04.2-1.43.59L10.3 9.45l-7.72 7.72c-.78.78-.78 2.05 0 2.83L4 21.41c.39.39.9.59 1.41.59.51 0 1.02-.2 1.41-.59l7.78-7.78 2.81-2.81c.8-.78.8-2.07 0-2.86zM5.41 20L4 18.59l7.72-7.72 1.47 1.35L5.41 20z\"/>\n",
              "  </svg>\n",
              "      </button>\n",
              "      \n",
              "  <style>\n",
              "    .colab-df-container {\n",
              "      display:flex;\n",
              "      flex-wrap:wrap;\n",
              "      gap: 12px;\n",
              "    }\n",
              "\n",
              "    .colab-df-convert {\n",
              "      background-color: #E8F0FE;\n",
              "      border: none;\n",
              "      border-radius: 50%;\n",
              "      cursor: pointer;\n",
              "      display: none;\n",
              "      fill: #1967D2;\n",
              "      height: 32px;\n",
              "      padding: 0 0 0 0;\n",
              "      width: 32px;\n",
              "    }\n",
              "\n",
              "    .colab-df-convert:hover {\n",
              "      background-color: #E2EBFA;\n",
              "      box-shadow: 0px 1px 2px rgba(60, 64, 67, 0.3), 0px 1px 3px 1px rgba(60, 64, 67, 0.15);\n",
              "      fill: #174EA6;\n",
              "    }\n",
              "\n",
              "    [theme=dark] .colab-df-convert {\n",
              "      background-color: #3B4455;\n",
              "      fill: #D2E3FC;\n",
              "    }\n",
              "\n",
              "    [theme=dark] .colab-df-convert:hover {\n",
              "      background-color: #434B5C;\n",
              "      box-shadow: 0px 1px 3px 1px rgba(0, 0, 0, 0.15);\n",
              "      filter: drop-shadow(0px 1px 2px rgba(0, 0, 0, 0.3));\n",
              "      fill: #FFFFFF;\n",
              "    }\n",
              "  </style>\n",
              "\n",
              "      <script>\n",
              "        const buttonEl =\n",
              "          document.querySelector('#df-02f0ae4f-3535-4894-a29f-af8b63ef447c button.colab-df-convert');\n",
              "        buttonEl.style.display =\n",
              "          google.colab.kernel.accessAllowed ? 'block' : 'none';\n",
              "\n",
              "        async function convertToInteractive(key) {\n",
              "          const element = document.querySelector('#df-02f0ae4f-3535-4894-a29f-af8b63ef447c');\n",
              "          const dataTable =\n",
              "            await google.colab.kernel.invokeFunction('convertToInteractive',\n",
              "                                                     [key], {});\n",
              "          if (!dataTable) return;\n",
              "\n",
              "          const docLinkHtml = 'Like what you see? Visit the ' +\n",
              "            '<a target=\"_blank\" href=https://colab.research.google.com/notebooks/data_table.ipynb>data table notebook</a>'\n",
              "            + ' to learn more about interactive tables.';\n",
              "          element.innerHTML = '';\n",
              "          dataTable['output_type'] = 'display_data';\n",
              "          await google.colab.output.renderOutput(dataTable, element);\n",
              "          const docLink = document.createElement('div');\n",
              "          docLink.innerHTML = docLinkHtml;\n",
              "          element.appendChild(docLink);\n",
              "        }\n",
              "      </script>\n",
              "    </div>\n",
              "  </div>\n",
              "  "
            ]
          },
          "metadata": {},
          "execution_count": 10
        }
      ],
      "source": [
        "results[results['plan_found'] == False]"
      ]
    },
    {
      "cell_type": "code",
      "source": [
        "print(len(results[results['plan_found'] == False]))\n",
        "print(len(results[results['plan_found'] == True]))"
      ],
      "metadata": {
        "colab": {
          "base_uri": "https://localhost:8080/"
        },
        "id": "rxDaGD1x9BOi",
        "outputId": "d3dff0f7-f931-4ca2-ea4f-403017c80356"
      },
      "execution_count": null,
      "outputs": [
        {
          "output_type": "stream",
          "name": "stdout",
          "text": [
            "24\n",
            "756\n"
          ]
        }
      ]
    },
    {
      "cell_type": "code",
      "execution_count": null,
      "metadata": {
        "id": "z90oAANSXz_r",
        "outputId": "452c8374-7183-48cc-f304-a5ec17fc40df"
      },
      "outputs": [
        {
          "data": {
            "text/plain": [
              "756"
            ]
          },
          "execution_count": 7,
          "metadata": {},
          "output_type": "execute_result"
        }
      ],
      "source": [
        "len(results[results['plan_found'] == True])"
      ]
    },
    {
      "cell_type": "code",
      "execution_count": null,
      "metadata": {
        "id": "WmMpwtu2Xz_s",
        "outputId": "993b8aed-61c0-4502-fad2-e233478215c6"
      },
      "outputs": [
        {
          "data": {
            "text/plain": [
              "24"
            ]
          },
          "execution_count": 8,
          "metadata": {},
          "output_type": "execute_result"
        }
      ],
      "source": [
        "len(results[results['plan_found'] == False])"
      ]
    },
    {
      "cell_type": "code",
      "execution_count": null,
      "metadata": {
        "id": "v9IVNwREXz_s"
      },
      "outputs": [],
      "source": [
        "# results.to_csv('results.csv', index = False)"
      ]
    },
    {
      "cell_type": "code",
      "execution_count": null,
      "metadata": {
        "id": "vBaU9F95Xz_t",
        "outputId": "c4bdf981-28d0-41cf-f67d-cce3dd738814",
        "colab": {
          "base_uri": "https://localhost:8080/",
          "height": 474
        }
      },
      "outputs": [
        {
          "output_type": "display_data",
          "data": {
            "text/plain": [
              "<Figure size 432x288 with 1 Axes>"
            ],
            "image/png": "[encoded data removed]"
          },
          "metadata": {}
        }
      ],
      "source": [
        "import matplotlib.pyplot as plt\n",
        "import numpy as np\n",
        "%matplotlib inline\n",
        "\n",
        "\n",
        "success = len(results[results['plan_found'] == True])\n",
        "failure = len(results[results['plan_found'] == False])\n",
        "y = np.array([success, failure])\n",
        "#plt.figure(figsize=(8,5))\n",
        "plt.pie(y, radius = 2, labels = [\"Success\", \"Failure\"], startangle = 90, explode = [0, 0.2], colors = ['green', 'red'], autopct='%1.1f%%', pctdistance=1.1, labeldistance=1.2)\n",
        "plt.savefig(\"graphs/success.png\")\n",
        "plt.show()"
      ]
    },
    {
      "cell_type": "code",
      "execution_count": null,
      "metadata": {
        "id": "Cdll7zJrXz_u"
      },
      "outputs": [],
      "source": [
        "results = results.astype({'time_taken': 'float'})"
      ]
    },
    {
      "cell_type": "code",
      "execution_count": null,
      "metadata": {
        "id": "jwLzEN2MXz_u"
      },
      "outputs": [],
      "source": [
        "results.no_of_blocks = results.no_of_blocks.apply(str)"
      ]
    },
    {
      "cell_type": "code",
      "execution_count": null,
      "metadata": {
        "id": "rOzOmmwXXz_v",
        "outputId": "2c76096b-e2cf-4d79-c068-ab51719aadcf",
        "colab": {
          "base_uri": "https://localhost:8080/"
        }
      },
      "outputs": [
        {
          "output_type": "stream",
          "name": "stdout",
          "text": [
            "<class 'pandas.core.frame.DataFrame'>\n",
            "RangeIndex: 780 entries, 0 to 779\n",
            "Data columns (total 8 columns):\n",
            " #   Column          Non-Null Count  Dtype  \n",
            "---  ------          --------------  -----  \n",
            " 0   problem_id      780 non-null    object \n",
            " 1   algorithm       780 non-null    object \n",
            " 2   heuristic       780 non-null    object \n",
            " 3   no_of_blocks    780 non-null    object \n",
            " 4   plan_found      780 non-null    bool   \n",
            " 5   plan_length     780 non-null    int64  \n",
            " 6   nodes_expanded  780 non-null    int64  \n",
            " 7   time_taken      780 non-null    float64\n",
            "dtypes: bool(1), float64(1), int64(2), object(4)\n",
            "memory usage: 43.5+ KB\n"
          ]
        }
      ],
      "source": [
        "results.info()"
      ]
    },
    {
      "cell_type": "code",
      "execution_count": null,
      "metadata": {
        "id": "rnej_1ATXz_w"
      },
      "outputs": [],
      "source": [
        "statistics = results[results['plan_found'] == True].groupby('no_of_blocks').mean()\n",
        "statistics.to_csv('ghn_statistics.csv')"
      ]
    },
    {
      "cell_type": "code",
      "execution_count": null,
      "metadata": {
        "id": "Tak0-ZBbXz_x"
      },
      "outputs": [],
      "source": [
        "statistics = pd.read_csv('ghn_statistics.csv')"
      ]
    },
    {
      "cell_type": "code",
      "execution_count": null,
      "metadata": {
        "id": "ATReufGZXz_x"
      },
      "outputs": [],
      "source": [
        "statistics.no_of_blocks = statistics.no_of_blocks.apply(str)"
      ]
    },
    {
      "cell_type": "code",
      "execution_count": null,
      "metadata": {
        "id": "ub8cUXV5Xz_y",
        "outputId": "894d0e9a-82d8-43d6-fca4-26cbdaefd440"
      },
      "outputs": [
        {
          "data": {
            "text/html": [
              "<div>\n",
              "<style scoped>\n",
              "    .dataframe tbody tr th:only-of-type {\n",
              "        vertical-align: middle;\n",
              "    }\n",
              "\n",
              "    .dataframe tbody tr th {\n",
              "        vertical-align: top;\n",
              "    }\n",
              "\n",
              "    .dataframe thead th {\n",
              "        text-align: right;\n",
              "    }\n",
              "</style>\n",
              "<table border=\"1\" class=\"dataframe\">\n",
              "  <thead>\n",
              "    <tr style=\"text-align: right;\">\n",
              "      <th></th>\n",
              "      <th>no_of_blocks</th>\n",
              "      <th>plan_found</th>\n",
              "      <th>plan_length</th>\n",
              "      <th>nodes_expanded</th>\n",
              "      <th>time_taken</th>\n",
              "    </tr>\n",
              "  </thead>\n",
              "  <tbody>\n",
              "    <tr>\n",
              "      <th>0</th>\n",
              "      <td>10</td>\n",
              "      <td>1.0</td>\n",
              "      <td>24.766667</td>\n",
              "      <td>73.816667</td>\n",
              "      <td>2.277000</td>\n",
              "    </tr>\n",
              "    <tr>\n",
              "      <th>1</th>\n",
              "      <td>11</td>\n",
              "      <td>1.0</td>\n",
              "      <td>28.120000</td>\n",
              "      <td>63.440000</td>\n",
              "      <td>2.285200</td>\n",
              "    </tr>\n",
              "    <tr>\n",
              "      <th>2</th>\n",
              "      <td>12</td>\n",
              "      <td>1.0</td>\n",
              "      <td>31.600000</td>\n",
              "      <td>65.300000</td>\n",
              "      <td>2.490400</td>\n",
              "    </tr>\n",
              "    <tr>\n",
              "      <th>3</th>\n",
              "      <td>13</td>\n",
              "      <td>1.0</td>\n",
              "      <td>33.480000</td>\n",
              "      <td>202.100000</td>\n",
              "      <td>4.547200</td>\n",
              "    </tr>\n",
              "    <tr>\n",
              "      <th>4</th>\n",
              "      <td>14</td>\n",
              "      <td>1.0</td>\n",
              "      <td>37.428571</td>\n",
              "      <td>107.938776</td>\n",
              "      <td>3.466939</td>\n",
              "    </tr>\n",
              "  </tbody>\n",
              "</table>\n",
              "</div>"
            ],
            "text/plain": [
              "  no_of_blocks  plan_found  plan_length  nodes_expanded  time_taken\n",
              "0           10         1.0    24.766667       73.816667    2.277000\n",
              "1           11         1.0    28.120000       63.440000    2.285200\n",
              "2           12         1.0    31.600000       65.300000    2.490400\n",
              "3           13         1.0    33.480000      202.100000    4.547200\n",
              "4           14         1.0    37.428571      107.938776    3.466939"
            ]
          },
          "execution_count": 113,
          "metadata": {},
          "output_type": "execute_result"
        }
      ],
      "source": [
        "statistics.head()"
      ]
    },
    {
      "cell_type": "code",
      "execution_count": null,
      "metadata": {
        "id": "m59S-yMzXz_y"
      },
      "outputs": [],
      "source": [
        "def plot_chart(xAxis, yAxis, xname, yname):\n",
        "    plt.plot(xAxis,yAxis)\n",
        "   # plt.title('title name')\n",
        "    plt.xlabel(xname)\n",
        "    plt.ylabel(yname)\n",
        "    plt.savefig(f\"graphs/{yname}.png\")\n",
        "    plt.show()"
      ]
    },
    {
      "cell_type": "code",
      "execution_count": null,
      "metadata": {
        "id": "GOuUMZVQXz_z"
      },
      "outputs": [],
      "source": [
        "def plot(xAxis, yAxis, xname, yname):\n",
        "    \n",
        "  #plt.savefig(f\"{testcase}_{col}.png\")\n",
        "  \n",
        "    plt.bar(xAxis.apply(str), height = yAxis, width = 0.8)\n",
        "    plt.xlabel(xname)\n",
        "    plt.ylabel(yname)\n",
        "    plt.savefig(f\"graphs/{yname}.png\")\n",
        "    plt.show()"
      ]
    },
    {
      "cell_type": "code",
      "execution_count": null,
      "metadata": {
        "id": "Jrze6g4OXz_z",
        "outputId": "49b363c2-b30a-4357-bbea-f40cee7d46ce",
        "colab": {
          "base_uri": "https://localhost:8080/",
          "height": 541
        }
      },
      "outputs": [
        {
          "output_type": "display_data",
          "data": {
            "text/plain": [
              "<Figure size 432x288 with 1 Axes>"
            ],
            "image/png": "[encoded data removed]"
          },
          "metadata": {
            "needs_background": "light"
          }
        },
        {
          "output_type": "display_data",
          "data": {
            "text/plain": [
              "<Figure size 432x288 with 1 Axes>"
            ],
            "image/png": "[encoded data removed]"
          },
          "metadata": {
            "needs_background": "light"
          }
        }
      ],
      "source": [
        "xAxis = statistics['no_of_blocks']\n",
        "yAxis = np.array(statistics['plan_length'])\n",
        "\n",
        "plot(xAxis, yAxis, 'No of Blocks', 'Average Plan Length')\n",
        "plot_chart(xAxis, np.array(yAxis), 'No of Blocks', 'Average Plan Length')"
      ]
    },
    {
      "cell_type": "code",
      "execution_count": null,
      "metadata": {
        "id": "Hbx0oAcuXz_0",
        "outputId": "092b384e-84ad-4f15-85a7-e1b2e978c8c5",
        "colab": {
          "base_uri": "https://localhost:8080/",
          "height": 541
        }
      },
      "outputs": [
        {
          "output_type": "display_data",
          "data": {
            "text/plain": [
              "<Figure size 432x288 with 1 Axes>"
            ],
            "image/png": "[encoded data removed]"
          },
          "metadata": {
            "needs_background": "light"
          }
        },
        {
          "output_type": "display_data",
          "data": {
            "text/plain": [
              "<Figure size 432x288 with 1 Axes>"
            ],
            "image/png": "[encoded data removed]"
          },
          "metadata": {
            "needs_background": "light"
          }
        }
      ],
      "source": [
        "xAxis = statistics['no_of_blocks']\n",
        "yAxis = np.array(statistics['time_taken'])\n",
        "\n",
        "plot(xAxis, yAxis, 'No of Blocks', 'Average Time Taken')\n",
        "plot_chart(xAxis, np.array(yAxis), 'No of Blocks', 'Average Time Taken')"
      ]
    },
    {
      "cell_type": "code",
      "source": [
        "statistics = statistics.sort_values(by=['no_of_blocks'])"
      ],
      "metadata": {
        "id": "KFy_28_eIM1s"
      },
      "execution_count": null,
      "outputs": []
    },
    {
      "cell_type": "code",
      "execution_count": null,
      "metadata": {
        "id": "t0rK08dxXz_1",
        "outputId": "b978b101-fd97-4006-f841-e526577a4716",
        "colab": {
          "base_uri": "https://localhost:8080/",
          "height": 549
        }
      },
      "outputs": [
        {
          "output_type": "display_data",
          "data": {
            "text/plain": [
              "<Figure size 432x288 with 1 Axes>"
            ],
            "image/png": "[encoded data removed]"
          },
          "metadata": {
            "needs_background": "light"
          }
        },
        {
          "output_type": "display_data",
          "data": {
            "text/plain": [
              "<Figure size 432x288 with 1 Axes>"
            ],
            "image/png": "[encoded data removed]"
          },
          "metadata": {
            "needs_background": "light"
          }
        }
      ],
      "source": [
        "xAxis = statistics['no_of_blocks']\n",
        "yAxis = np.array(statistics['nodes_expanded'])\n",
        "\n",
        "plot(xAxis, yAxis, 'No of Blocks', 'Average Nodes Expanded')\n",
        "plot_chart(xAxis, np.array(yAxis), 'No of Blocks', 'Average Nodes Expanded')"
      ]
    },
    {
      "cell_type": "code",
      "execution_count": null,
      "metadata": {
        "id": "DtB6baChXz_1"
      },
      "outputs": [],
      "source": [
        "###Shall we include only those that are solved?"
      ]
    },
    {
      "cell_type": "code",
      "execution_count": null,
      "metadata": {
        "id": "6MOoep4UXz_2",
        "outputId": "c5f45432-b11f-45d9-a4e4-13de86ac8fa9",
        "colab": {
          "base_uri": "https://localhost:8080/",
          "height": 279
        }
      },
      "outputs": [
        {
          "output_type": "display_data",
          "data": {
            "text/plain": [
              "<Figure size 576x288 with 1 Axes>"
            ],
            "image/png": "[encoded data removed]"
          },
          "metadata": {
            "needs_background": "light"
          }
        }
      ],
      "source": [
        "out = pd.cut(results[results['plan_found'] == True]['time_taken'], bins=[1.0, 10.0, 50.0, 100, 200, max(results['time_taken'])], include_lowest=True)\n",
        "ax = out.value_counts(sort=False, normalize=True).plot.bar(rot=0, figsize=(8,4))\n",
        "#ax.set_xticklabels([c[1:-1].replace(\",\",\" to\") for c in out.cat.categories])\n",
        "plt.xlabel('Time Taken')\n",
        "plt.ylabel('Percentage of problems solved')\n",
        "plt.savefig(f\"graphs/Time_Taken.png\")\n",
        "plt.show()\n"
      ]
    },
    {
      "cell_type": "code",
      "execution_count": null,
      "metadata": {
        "id": "VUceXXYpXz_2",
        "outputId": "818cd5b0-436d-43d1-bf43-18e8fa5c0303",
        "colab": {
          "base_uri": "https://localhost:8080/",
          "height": 279
        }
      },
      "outputs": [
        {
          "output_type": "display_data",
          "data": {
            "text/plain": [
              "<Figure size 576x288 with 1 Axes>"
            ],
            "image/png": "[encoded data removed]"
          },
          "metadata": {
            "needs_background": "light"
          }
        }
      ],
      "source": [
        "out = pd.cut(results[results['plan_found'] == True]['nodes_expanded'], bins=[1.0, 100, 200, 500, max(results['nodes_expanded'])], include_lowest=True)\n",
        "ax = out.value_counts(sort=False, normalize=True).plot.bar(rot=0, figsize=(8,4))\n",
        "plt.xlabel('Nodes Expanded')\n",
        "plt.ylabel('Percentage of problems solved')\n",
        "plt.savefig(f\"graphs/Nodes_Expanded.png\")\n",
        "plt.show()"
      ]
    },
    {
      "cell_type": "code",
      "execution_count": null,
      "metadata": {
        "id": "i71Xm8RrXz_2",
        "outputId": "50c7dc6e-f437-437c-8b49-99843571d205",
        "colab": {
          "base_uri": "https://localhost:8080/",
          "height": 279
        }
      },
      "outputs": [
        {
          "output_type": "display_data",
          "data": {
            "text/plain": [
              "<Figure size 576x288 with 1 Axes>"
            ],
            "image/png": "[encoded data removed]"
          },
          "metadata": {
            "needs_background": "light"
          }
        }
      ],
      "source": [
        "out = pd.cut(results[results['plan_found'] == True]['plan_length'], bins=[1.0, 30.0, 60.0, 90.0, 120.0, max(results['plan_length'])], include_lowest=True)\n",
        "ax = out.value_counts(sort=False, normalize=True).plot.bar(rot=0, figsize=(8,4))\n",
        "plt.xlabel('Plan Length')\n",
        "plt.ylabel('Percentage of problems solved')\n",
        "plt.savefig(f\"graphs/Plan_Length.png\")\n",
        "plt.show()"
      ]
    },
    {
      "cell_type": "code",
      "execution_count": null,
      "metadata": {
        "id": "jntGYH-dXz_3"
      },
      "outputs": [],
      "source": [
        ""
      ]
    }
  ],
  "metadata": {
    "kernelspec": {
      "display_name": "Python 3",
      "language": "python",
      "name": "python3"
    },
    "language_info": {
      "codemirror_mode": {
        "name": "ipython",
        "version": 3
      },
      "file_extension": ".py",
      "mimetype": "text/x-python",
      "name": "python",
      "nbconvert_exporter": "python",
      "pygments_lexer": "ipython3",
      "version": "3.7.4"
    },
    "colab": {
      "name": "Plot Charts.ipynb",
      "provenance": []
    }
  },
  "nbformat": 4,
  "nbformat_minor": 0
}